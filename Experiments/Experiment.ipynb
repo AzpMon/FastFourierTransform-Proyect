{
 "cells": [
  {
   "cell_type": "code",
   "execution_count": 1,
   "metadata": {},
   "outputs": [],
   "source": [
    "import sys\n",
    "import os\n",
    "\n",
    "# Add the relative path for the directories\n",
    "addPath = lambda name: sys.path.append(os.path.abspath(f\"../{name}\"))\n",
    "addPath('Code')\n",
    "addPath('Data and results')\n",
    "\n",
    "from AudioSignalAnalyzer import AudioAnalyzer as aa \n",
    "from FastFourierTransform import FFT as fft\n",
    "from utils import read_wav_file, save_wav_file "
   ]
  },
  {
   "cell_type": "markdown",
   "metadata": {},
   "source": [
    "# C Major chord"
   ]
  },
  {
   "cell_type": "code",
   "execution_count": 2,
   "metadata": {},
   "outputs": [
    {
     "name": "stdout",
     "output_type": "stream",
     "text": [
      "WAV file read successfully with librosa...\n",
      "\tSample Rate: 44100 Hz\n",
      "\tAudio Data Shape: (152064,)\n",
      "\tAudio Data Duration: 3.45 seconds\n"
     ]
    }
   ],
   "source": [
    "# Load the audio file\n",
    "\n",
    "Cmajor_audio, sr_Cmajor = read_wav_file('../Data and results/C_major.wav')\n",
    "\n",
    "\n"
   ]
  },
  {
   "cell_type": "code",
   "execution_count": null,
   "metadata": {},
   "outputs": [
    {
     "name": "stdout",
     "output_type": "stream",
     "text": [
      "<class 'numpy.ndarray'>\n"
     ]
    }
   ],
   "source": [
    "print(type(Cmajor_audio, sr_Cmajor = read_wav_file('../Data and results/C_major.wav')\n",
    "))"
   ]
  },
  {
   "cell_type": "code",
   "execution_count": 4,
   "metadata": {},
   "outputs": [
    {
     "name": "stdout",
     "output_type": "stream",
     "text": [
      "WAV file read successfully with librosa...\n",
      "\tSample Rate: 44100 Hz\n",
      "\tAudio Data Shape: (152064,)\n",
      "\tAudio Data Duration: 3.45 seconds\n"
     ]
    },
    {
     "ename": "ValueError",
     "evalue": "too many values to unpack (expected 2)",
     "output_type": "error",
     "traceback": [
      "\u001b[0;31m---------------------------------------------------------------------------\u001b[0m",
      "\u001b[0;31mValueError\u001b[0m                                Traceback (most recent call last)",
      "Cell \u001b[0;32mIn[4], line 2\u001b[0m\n\u001b[1;32m      1\u001b[0m \u001b[38;5;66;03m# Leer el audio\u001b[39;00m\n\u001b[0;32m----> 2\u001b[0m audio, sr \u001b[38;5;241m=\u001b[39m read_wav_file(\u001b[38;5;124m'\u001b[39m\u001b[38;5;124m../Data and results/C_major.wav\u001b[39m\u001b[38;5;124m'\u001b[39m)\n\u001b[1;32m      4\u001b[0m \u001b[38;5;66;03m# Crear analizador\u001b[39;00m\n\u001b[1;32m      5\u001b[0m analyzer \u001b[38;5;241m=\u001b[39m aa()\n",
      "\u001b[0;31mValueError\u001b[0m: too many values to unpack (expected 2)"
     ]
    }
   ],
   "source": [
    "# Leer el audio\n",
    "audio, sr = read_wav_file('../Data and results/C_major.wav')\n",
    "\n",
    "# Crear analizador\n",
    "analyzer = aa()\n",
    "\n",
    "# Graficar waveform con Plotly\n",
    "analyzer.plot_waveform(audio, sr, name=\"C Major (Original)\", color=\"royalblue\")\n",
    "\n",
    "# Graficar waveform con Seaborn\n",
    "analyzer.plot_waveform_seaborn(audio, sr, name=\"C Major (Original)\", color=\"royalblue\")\n"
   ]
  },
  {
   "cell_type": "markdown",
   "metadata": {},
   "source": [
    "### Fast Fourier Transform Analysis"
   ]
  },
  {
   "cell_type": "code",
   "execution_count": null,
   "metadata": {},
   "outputs": [],
   "source": [
    "print(\"ok\")"
   ]
  },
  {
   "cell_type": "code",
   "execution_count": null,
   "metadata": {},
   "outputs": [],
   "source": []
  },
  {
   "cell_type": "markdown",
   "metadata": {},
   "source": [
    "### Inverse Fast Fourier Transform"
   ]
  },
  {
   "cell_type": "code",
   "execution_count": null,
   "metadata": {},
   "outputs": [],
   "source": []
  },
  {
   "cell_type": "markdown",
   "metadata": {},
   "source": [
    "# Popular Mexican Song"
   ]
  },
  {
   "cell_type": "code",
   "execution_count": null,
   "metadata": {},
   "outputs": [],
   "source": []
  },
  {
   "cell_type": "markdown",
   "metadata": {},
   "source": [
    "## Fast Fourier Transform "
   ]
  },
  {
   "cell_type": "code",
   "execution_count": null,
   "metadata": {},
   "outputs": [],
   "source": []
  },
  {
   "cell_type": "markdown",
   "metadata": {},
   "source": [
    "## Inverse Fast Fourier Transform"
   ]
  },
  {
   "cell_type": "markdown",
   "metadata": {},
   "source": []
  }
 ],
 "metadata": {
  "kernelspec": {
   "display_name": "Python 3",
   "language": "python",
   "name": "python3"
  },
  "language_info": {
   "codemirror_mode": {
    "name": "ipython",
    "version": 3
   },
   "file_extension": ".py",
   "mimetype": "text/x-python",
   "name": "python",
   "nbconvert_exporter": "python",
   "pygments_lexer": "ipython3",
   "version": "3.10.12"
  }
 },
 "nbformat": 4,
 "nbformat_minor": 2
}
