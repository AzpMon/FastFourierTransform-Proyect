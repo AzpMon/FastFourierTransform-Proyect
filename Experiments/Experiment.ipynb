{
 "cells": [
  {
   "cell_type": "code",
   "execution_count": null,
   "metadata": {},
   "outputs": [],
   "source": [
    "import sys\n",
    "import os\n",
    "import numpy as np # To handle complex values\n",
    "\n",
    "# Add the relative path for the directories\n",
    "addPath = lambda name: sys.path.append(os.path.abspath(f\"../{name}\"))\n",
    "addPath('Code')\n",
    "addPath('Data and results')\n",
    "\n",
    "from AudioSignalAnalyzer import AudioAnalyzer as aa \n",
    "from FastFourierTransform import FFT\n",
    "from utils import read_wav_file, save_wav_file \n",
    "\n",
    "analyzer = aa()\n",
    "fft = FFT()"
   ]
  },
  {
   "cell_type": "markdown",
   "metadata": {},
   "source": [
    "# C Major chord"
   ]
  },
  {
   "cell_type": "code",
   "execution_count": null,
   "metadata": {},
   "outputs": [],
   "source": [
    "# Load the audio file\n",
    "Cmajor_audio, sr_Cmajor = read_wav_file('../Data and results/C_major.wav')"
   ]
  },
  {
   "cell_type": "code",
   "execution_count": null,
   "metadata": {},
   "outputs": [],
   "source": [
    "# Plot waveform with Plotly\n",
    "analyzer.plot_waveform(Cmajor_audio, sr_Cmajor, name=\"C Major (Original)\", color=\"royalblue\")\n",
    "# Plot waveform with seaborn\n",
    "#analyzer.plot_waveform_seaborn(Cmajor_audio, sr_Cmajor, name=\"C Major (Original)\", color=\"royalblue\")\n",
    "\n",
    "\n",
    "print(\"*\"* 100)\n",
    "\n",
    "\n",
    "# Plot spectrogram with Plotly\n",
    "#analyzer.plot_spectrogram(Cmajor_audio, sr_Cmajor, name=\"C Major (Original)\")\n",
    "# Plot spectrogram with seaborn\n",
    "analyzer.plot_spectrogram_seaborn(Cmajor_audio, sr_Cmajor, name=\"C Major (Original)\")"
   ]
  },
  {
   "cell_type": "markdown",
   "metadata": {},
   "source": [
    "### Fast Fourier Transform Analysis"
   ]
  },
  {
   "cell_type": "code",
   "execution_count": null,
   "metadata": {},
   "outputs": [],
   "source": [
    "# Fit the FFT to the audio signal\n",
    "Cmajor_audio_fft = fft.fit_1d(Cmajor_audio)\n",
    "\n",
    "# Plot waveform with plotly\n",
    "#analyzer.plot_fft_plotly(Cmajor_audio_fft, sr_Cmajor, name=\"C Major (Original)\", color=\"royalblue\")\n",
    "\n",
    "# Plot waveform with seaborn\n",
    "analyzer.plot_fft_seaborn(Cmajor_audio_fft, sr_Cmajor, name=\"C Major (Original)\", color=\"royalblue\")"
   ]
  },
  {
   "cell_type": "markdown",
   "metadata": {},
   "source": [
    "### Filter Audio"
   ]
  },
  {
   "cell_type": "code",
   "execution_count": null,
   "metadata": {},
   "outputs": [],
   "source": [
    "# Filter the audio signal using a low-pass filter\n",
    "filteredAudio_fft = fft.lowPassFilter(Cmajor_audio, preserve_ratio=0.8)\n",
    "\n",
    "# Plot the filtered audio signal with Plotly\n",
    "#analyzer.plot_fft_plotly(filteredAudio_fft, sr_Cmajor, name=\"C Major (Filtrado)\", color=\"red\")\n",
    "\n",
    "\n",
    "# Plot the filtered audio signal with seaborn\n",
    "analyzer.plot_fft_seaborn(filteredAudio_fft, sr_Cmajor, name=\"C Major (Filtrado)\", color=\"red\")"
   ]
  },
  {
   "cell_type": "markdown",
   "metadata": {},
   "source": [
    "### Inverse Fast Fourier Transform"
   ]
  },
  {
   "cell_type": "code",
   "execution_count": null,
   "metadata": {},
   "outputs": [],
   "source": [
    "# Filter the audio signal using a low-pass filter\n",
    "filteredAudio = np.real(fft.fit_inverse_1d(Cmajor_audio))\n",
    "\n",
    "# Plot the filtered audio signal with Plotly\n",
    "analyzer.plot_waveform(filteredAudio, sr_Cmajor, name=\"C Major (Filtrado)\", color=\"red\")\n",
    "# Plot the filtered audio signal with seaborn\n",
    "analyzer.plot_waveform_seaborn(filteredAudio, sr_Cmajor, name=\"C Major (Filtrado)\", color=\"red\")\n",
    "\n",
    "\n",
    "print(\"*\"* 100)\n",
    "\n",
    "# Plot spectrogram with Plotly\n",
    "#analyzer.plot_spectrogram(filteredAudio, sr_Cmajor, name=\"C Major (filtered)\")\n",
    "# Plot spectrogram with seaborn\n",
    "analyzer.plot_spectrogram_seaborn(filteredAudio, sr_Cmajor, name=\"C Major (filtered)\")"
   ]
  },
  {
   "cell_type": "code",
   "execution_count": null,
   "metadata": {},
   "outputs": [],
   "source": [
    "# Save file \n",
    "save_wav_file('../Data and results/C_major_filtered.wav', filteredAudio, sr_Cmajor)"
   ]
  },
  {
   "cell_type": "markdown",
   "metadata": {},
   "source": [
    "# Popular Mexican Song"
   ]
  },
  {
   "cell_type": "code",
   "execution_count": null,
   "metadata": {},
   "outputs": [],
   "source": [
    "# Load the audio file\n",
    "BandaRecodo_audio, sr_BandaRecodo = read_wav_file('../Data and results/BandaRecodo.wav')"
   ]
  },
  {
   "cell_type": "code",
   "execution_count": null,
   "metadata": {},
   "outputs": [],
   "source": [
    "# Plot waveform with Plotly\n",
    "analyzer.plot_waveform(BandaRecodo_audio, sr_BandaRecodo, name=\"BandaRecodo (Original)\", color=\"royalblue\")\n",
    "# Plot waveform with seaborn\n",
    "analyzer.plot_waveform_seaborn(BandaRecodo_audio, sr_BandaRecodo, name=\"BandaRecodo (Original)\", color=\"royalblue\")\n",
    "\n",
    "\n",
    "print(\"*\"* 100)\n",
    "\n",
    "\n",
    "# Plot spectrogram with Plotly\n",
    "analyzer.plot_spectrogram(BandaRecodo_audio, sr_BandaRecodo, name=\"BandaRecodo (Original)\")\n",
    "# Plot spectrogram with seaborn\n",
    "analyzer.plot_spectrogram_seaborn(BandaRecodo_audio, sr_BandaRecodo, name=\"BandaRecodo (Original)\")"
   ]
  },
  {
   "cell_type": "markdown",
   "metadata": {},
   "source": [
    "## Fast Fourier Transform Analysis"
   ]
  },
  {
   "cell_type": "code",
   "execution_count": null,
   "metadata": {},
   "outputs": [],
   "source": [
    "# Fit the FFT to the audio signal\n",
    "Cmajor_audio_fft = fft.fit_1d(BandaRecodo_audio)\n",
    "\n",
    "# Plot waveform with plotly\n",
    "analyzer.plot_fft_plotly(BandaRecodo_audio, sr_BandaRecodo, name=\"BandaRecodo (Original)\", color=\"royalblue\")\n",
    "\n",
    "# Plot waveform with seaborn\n",
    "analyzer.plot_fft_seaborn(BandaRecodo_audio, sr_BandaRecodo, name=\"BandaRecodo (Original)\", color=\"royalblue\")"
   ]
  },
  {
   "cell_type": "markdown",
   "metadata": {},
   "source": [
    "## Filter audio"
   ]
  },
  {
   "cell_type": "code",
   "execution_count": null,
   "metadata": {},
   "outputs": [],
   "source": [
    "# Filter the audio signal using a low-pass filter\n",
    "filteredAudio_fft = fft.lowPassFilter(Cmajor_audio_fft, preserve_ratio=0.4)\n",
    "\n",
    "# Plot the filtered audio signal with Plotly\n",
    "analyzer.plot_fft_plotly(filteredAudio_fft, sr_BandaRecodo, name=\"C Major (Filtrado)\", color=\"red\")\n",
    "\n",
    "\n",
    "# Plot the filtered audio signal with seaborn\n",
    "analyzer.plot_fft_seaborn(filteredAudio_fft, sr_BandaRecodo, name=\"C Major (Filtrado)\", color=\"red\")"
   ]
  },
  {
   "cell_type": "markdown",
   "metadata": {},
   "source": [
    "### Inverse Fast Fourier Transform"
   ]
  },
  {
   "cell_type": "code",
   "execution_count": null,
   "metadata": {},
   "outputs": [],
   "source": [
    "# Filter the audio signal using a low-pass filter\n",
    "filteredAudio = np.real(fft.fit_inverse_1d(filteredAudio_fft))\n",
    "\n",
    "# Plot the filtered audio signal with Plotly\n",
    "analyzer.plot_waveform(filteredAudio, sr_Cmajor, name=\"BandaRecodo (Filtrado)\", color=\"red\")\n",
    "# Plot the filtered audio signal with seaborn\n",
    "analyzer.plot_waveform_seaborn(filteredAudio, sr_BandaRecodo, name=\"C Major (Filtrado)\", color=\"red\")\n",
    "\n",
    "\n",
    "print(\"*\"* 100)\n",
    "\n",
    "# Plot spectrogram with Plotly\n",
    "analyzer.plot_spectrogram(filteredAudio, sr_BandaRecodo, name=\"BandaRecodo (filtered)\")\n",
    "# Plot spectrogram with seaborn\n",
    "analyzer.plot_spectrogram_seaborn(filteredAudio, sr_BandaRecodo, name=\"BandaRecodo (filtered)\")"
   ]
  },
  {
   "cell_type": "code",
   "execution_count": null,
   "metadata": {},
   "outputs": [],
   "source": [
    "# Save file \n",
    "save_wav_file('../Data and results/BandaRecodo_filtered.wav', filteredAudio, sr_BandaRecodo)"
   ]
  }
 ],
 "metadata": {
  "kernelspec": {
   "display_name": "Python 3",
   "language": "python",
   "name": "python3"
  },
  "language_info": {
   "codemirror_mode": {
    "name": "ipython",
    "version": 3
   },
   "file_extension": ".py",
   "mimetype": "text/x-python",
   "name": "python",
   "nbconvert_exporter": "python",
   "pygments_lexer": "ipython3",
   "version": "3.10.12"
  }
 },
 "nbformat": 4,
 "nbformat_minor": 2
}
